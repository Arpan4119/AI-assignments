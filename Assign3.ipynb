{
  "nbformat": 4,
  "nbformat_minor": 0,
  "metadata": {
    "colab": {
      "provenance": []
    },
    "kernelspec": {
      "name": "python3",
      "display_name": "Python 3"
    },
    "language_info": {
      "name": "python"
    }
  },
  "cells": [
    {
      "cell_type": "markdown",
      "source": [
        "Name: Arpan Das\n",
        "\n",
        "Roll No.: 302211001012\n",
        "\n",
        "Group: A2\n",
        "\n",
        "UG3, Information Technology"
      ],
      "metadata": {
        "id": "KwAesEfbX17O"
      }
    },
    {
      "cell_type": "markdown",
      "source": [
        "**Question:**\n",
        "\n",
        "Write a Python program to solve the problem using Depth-first search in such a way that it can handle the 15-Puzzle problem with the same program.\n",
        "Provide necessary inputs to the program. Do not statically mention any of them inside the program.\n",
        "Input and output states shall be written in the same file and you can read them properly as required.\n",
        "Intermediate output shall be properly displayed and will be written in a separate output file.\n"
      ],
      "metadata": {
        "id": "2VOsReTCYMRn"
      }
    },
    {
      "cell_type": "markdown",
      "source": [
        "**Code:**"
      ],
      "metadata": {
        "id": "jJCWrUwHYUYU"
      }
    },
    {
      "cell_type": "code",
      "source": [
        "# Function to check if a move is valid within the puzzle dimensions\n",
        "def is_valid(x, y, size):\n",
        "    return 0 <= x < size and 0 <= y < size\n",
        "\n",
        "# Function to apply a move to the puzzle state\n",
        "def move_to(state, move, size):\n",
        "    new_state = state[:]\n",
        "    index_zero = new_state.index(0)\n",
        "    x_zero, y_zero = index_zero // size, index_zero % size\n",
        "    x_new, y_new = x_zero + move[0], y_zero + move[1]\n",
        "    if is_valid(x_new, y_new, size):\n",
        "        new_idx = x_new * size + y_new\n",
        "        new_state[index_zero], new_state[new_idx] = new_state[new_idx], new_state[index_zero]\n",
        "        return new_state\n",
        "    return None\n",
        "\n",
        "# Function to read puzzle states from a CSV file\n",
        "def read_csv(file_name):\n",
        "    state = []\n",
        "    with open(file_name, 'r') as file:\n",
        "        line = file.readlines()\n",
        "        for i in line:\n",
        "            state.extend(map(int, i.strip().split(',')))\n",
        "    return state\n",
        "\n",
        "# Depth-First Search function to find a solution path\n",
        "def dfs(current_state, goal_state, direction, vis, path, path_direction, size):\n",
        "    if current_state == goal_state:\n",
        "        return True\n",
        "\n",
        "    vis.add(tuple(current_state))\n",
        "    for move in direction:\n",
        "        new_state = move_to(current_state, move, size)\n",
        "        if new_state is not None and tuple(new_state) not in vis:\n",
        "            path.append(new_state)\n",
        "            path_direction.append(move)\n",
        "            if dfs(new_state, goal_state, direction, vis, path, path_direction, size):\n",
        "                return True\n",
        "            path.pop()\n",
        "            path_direction.pop()\n",
        "\n",
        "    return False\n",
        "\n",
        "# Main function to solve the puzzle and store the solution in a text file\n",
        "def solve(start_file, goal_file, solution_file):\n",
        "    # User input for puzzle size\n",
        "    puzzle_size = int(input(\"Enter the puzzle size (3 for 8 puzzle, 4 for 15 puzzle): \"))\n",
        "    size = puzzle_size\n",
        "\n",
        "    # Possible move directions and their names\n",
        "    direction = [(0, 1), (0, -1), (1, 0), (-1, 0)]\n",
        "    direction_names = [\"Right\", \"Left\", \"Down\", \"Up\"]\n",
        "\n",
        "    # Read initial and goal states from CSV files\n",
        "    goal_state = read_csv(goal_file)\n",
        "    start_state = read_csv(start_file)\n",
        "\n",
        "    # Validate state sizes\n",
        "    if len(start_state) != size * size or len(goal_state) != size * size:\n",
        "        print(\"Invalid state size\")\n",
        "        return\n",
        "\n",
        "    vis = set()\n",
        "    path = [start_state]\n",
        "    path_direction = []  # To store the movements\n",
        "\n",
        "    # Find the solution using DFS\n",
        "    if not dfs(start_state, goal_state, direction, vis, path, path_direction, size):\n",
        "        print(\"No solution found.\")\n",
        "        return\n",
        "\n",
        "    # Write solution to output file\n",
        "    print(\"Solution is Stored in 'solution.txt'\")\n",
        "    with open(solution_file, 'w') as output:\n",
        "        # Write the initial puzzle and goal states\n",
        "        output.write(\"Initial Puzzle:\\n\")\n",
        "        for i in range(0, size * size, size):\n",
        "            output.write(' '.join(map(str, start_state[i:i + size])) + '\\n')\n",
        "        output.write('-' * 14 + '\\n')\n",
        "\n",
        "        output.write(\"Goal State:\\n\")\n",
        "        for i in range(0, size * size, size):\n",
        "            output.write(' '.join(map(str, goal_state[i:i + size])) + '\\n')\n",
        "        output.write('\\n')\n",
        "\n",
        "        # Write intermediate steps and move directions\n",
        "        output.write('\\n****Intermediate Steps****\\n')\n",
        "        for step, state in enumerate(path):\n",
        "            move = path_direction[step] if step < len(path_direction) else (-1, -1)\n",
        "            move_idx = direction.index(move) if move in direction else -1\n",
        "            if move_idx != -1:\n",
        "                output.write(f\"\\nStep {step + 1} :\\n\")\n",
        "                for i in range(0, size * size, size):\n",
        "                    output.write(' '.join(map(str, state[i:i + size])) + '\\n')\n",
        "                output.write('-' * 14 + '\\n')\n",
        "                output.write(f\"Move direction: {direction_names[move_idx]}\\n\")\n",
        "            else:\n",
        "                output.write(f\"\\nStep {step + 1}:\\n\")\n",
        "                for i in range(0, size * size, size):\n",
        "                    output.write(' '.join(map(str, state[i:i + size])) + '\\n')\n",
        "                output.write('-' * 14 + '\\n')\n",
        "\n",
        "# Usage\n",
        "if __name__ == \"__main__\":\n",
        "    start_file = \"start_15puzzle.csv\"\n",
        "    goal_file = \"goal_15puzzle.csv\"\n",
        "    solution_file = \"solution_15puzzle.txt\"\n",
        "\n",
        "    solve(start_file, goal_file, solution_file)\n"
      ],
      "metadata": {
        "colab": {
          "base_uri": "https://localhost:8080/"
        },
        "id": "GqPOagf3RXk1",
        "outputId": "cad442a8-d702-43f4-d96a-e835403fe0a5"
      },
      "execution_count": 47,
      "outputs": [
        {
          "output_type": "stream",
          "name": "stdout",
          "text": [
            "Enter the puzzle size (3 for 8 puzzle, 4 for 15 puzzle): 4\n",
            "Solution is Stored in 'solution.txt'\n"
          ]
        }
      ]
    },
    {
      "cell_type": "markdown",
      "source": [
        "# Input & Output files of 8 puzzle problem\n",
        "**Start puzzle of 8 puzzle problem:**\n",
        "[G-Drive link of start_8puzzle.csv](https://drive.google.com/file/d/1wn1NHIUN4WlbdIGhUTlLRz6wUZB3bTvi/view)\n",
        "\n",
        "\n",
        "**Goal state of 8 puzzle problem:**\n",
        "[G-Drive link of goal_8puzzle.csv](https://drive.google.com/file/d/1Ise6PuUC79r3I9OOOYKSzRKRlMMpn4Sx/view)\n",
        "\n",
        "\n",
        "**Solution file of 8 puzzle problem:**\n",
        "[G-Drive link of solution_8puzzle.txt](https://drive.google.com/file/d/1lY7HU3EsFUbt8O1_V8klG5xTuLyKCqw9/view)\n",
        "\n",
        "# Input & Output files of 15 puzzle problem\n",
        "**Start puzzle of 15 puzzle problem:**\n",
        "[G-Drive link of start_15puzzle.csv](https://drive.google.com/file/d/1om442XcU77VlrA-trybaankRg80GkpZO/view)\n",
        "\n",
        "**Goal state of 15 puzzle problem:**\n",
        "[G-Drive link of goal_15puzzle.csv](https://drive.google.com/file/d/1ab_wVNW9yxw9W8dDdpEsGPT46i9Lccsp/view)\n",
        "\n",
        "\n",
        "**Solution file of 8 puzzle problem:**\n",
        "[G-Drive link of solution_15puzzle.csv](https://drive.google.com/file/d/1AwYuKPtAEDO0rzFhqpOfS-N5E67qZLUN/view)\n",
        "\n"
      ],
      "metadata": {
        "id": "6KWyFt1lcHhW"
      }
    },
    {
      "cell_type": "markdown",
      "source": [
        "## Puzzle Solver with Depth-First Search\n",
        "\n",
        "This Python script is designed to solve a sliding puzzle, commonly known as the 8-puzzle or 15-puzzle, using the Depth-First Search (DFS) algorithm. The goal is to find a sequence of moves that transforms the initial puzzle configuration to the goal configuration.\n",
        "\n",
        "### Puzzle Representation\n",
        "\n",
        "The puzzle is represented as a grid of numbers, typically in a square layout. Each number occupies a position in the grid, and the player's objective is to rearrange the numbers by sliding them horizontally or vertically, one at a time, into the empty cell.\n",
        "\n",
        "### Functions and Logic\n",
        "\n",
        "1. **`is_valid(x, y, size)`**: This function checks whether a move represented by the coordinates `(x, y)` is valid within the puzzle's dimensions (`size`). It ensures the move does not go beyond the boundaries of the puzzle.\n",
        "\n",
        "2. **`move_to(state, move, size)`**: This function applies a move to the puzzle state. It takes the current state of the puzzle (`state`), the move to be applied (`move`), and the puzzle size (`size`). It swaps the position of the empty cell (represented by `0`) with the adjacent cell according to the provided move.\n",
        "\n",
        "3. **`read_csv(file_name)`**: This function reads puzzle states from a CSV file. The CSV file should contain a comma-separated list of numbers representing the puzzle's initial or goal state.\n",
        "\n",
        "4. **`dfs(current_state, goal_state, direction, vis, path, path_direction, size)`**: This is the core DFS function. It recursively explores possible moves from the current puzzle state to the goal state. It maintains a set of visited states (`vis`) to avoid revisiting states, a list of visited states (`path`), and a list of move directions (`path_direction`) that lead to each visited state.\n",
        "\n",
        "5. **`solve(start_file, goal_file, solution_file)`**: This is the main function that orchestrates the puzzle solving process. It takes the names of the initial and goal state CSV files and an output file name for the solution. It reads the initial and goal states from the CSV files, validates their sizes, and initiates the DFS algorithm. The solution steps and move directions are written to the output file.\n",
        "\n",
        "### Usage\n",
        "\n",
        "The script begins by defining the filenames for the initial state (`start_file`), goal state (`goal_file`), and the solution output file (`solution_file`). The `solve` function is called with these filenames to start the puzzle-solving process.\n",
        "\n",
        "### Input and Output\n",
        "\n",
        "- The user is prompted to enter the size of the puzzle (3 for 8-puzzle, 4 for 15-puzzle).\n",
        "- The script reads the initial and goal states from CSV files.\n",
        "- The DFS algorithm searches for a solution path, recording each step and move direction.\n",
        "- The solution, along with intermediate steps and move directions, is written to the output file.\n",
        "\n",
        "The code combines various functions to implement a solver for sliding puzzles, providing a clear demonstration of DFS-based puzzle-solving logic."
      ],
      "metadata": {
        "id": "9hrlUaK2b04C"
      }
    }
  ]
}