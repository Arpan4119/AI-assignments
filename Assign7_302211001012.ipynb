{
  "nbformat": 4,
  "nbformat_minor": 0,
  "metadata": {
    "colab": {
      "provenance": []
    },
    "kernelspec": {
      "name": "python3",
      "display_name": "Python 3"
    },
    "language_info": {
      "name": "python"
    }
  },
  "cells": [
    {
      "cell_type": "markdown",
      "source": [
        "Name: Arpan Das\n",
        "\n",
        "Roll No.: 302211001012\n",
        "\n",
        "Group: A2\n",
        "\n",
        "UG3, Information Technology"
      ],
      "metadata": {
        "id": "cNlbQRFxg1Mj"
      }
    },
    {
      "cell_type": "markdown",
      "source": [
        "**Problem 1:\n",
        "Install swi-prolog and run small example datasets. Practice by executing some queries on example datasets.\n",
        "Submit documentation on the above work.**"
      ],
      "metadata": {
        "id": "V2V7Ua_wVd-P"
      }
    },
    {
      "cell_type": "markdown",
      "source": [
        "# Sample 1\n",
        "\n",
        "\n",
        "**Code:**\n",
        "```\n",
        "female(pam).\n",
        "female(liz).\n",
        "female(pat).\n",
        "female(ann).\n",
        "\n",
        "male(jim).\n",
        "male(bob).\n",
        "male(tom).\n",
        "male(peter).\n",
        "\n",
        "parent(pam,bob).\n",
        "parent(tom,bob).\n",
        "parent(tom,liz).\n",
        "parent(bob,ann).\n",
        "parent(bob,pat).\n",
        "parent(pat,jim).\n",
        "parent(bob,peter).\n",
        "parent(peter,jim).\n",
        "\n",
        "mother(X,Y):- parent(X,Y),female(X).\n",
        "father(X,Y):- parent(X,Y),male(X).\n",
        "haschild(X):- parent(X,_).\n",
        "sister(X,Y):- parent(Z,X),parent(Z,Y),female(X),X\\==Y.\n",
        "brother(X,Y):-parent(Z,X),parent(Z,Y),male(X),X\\==Y.\n",
        "```\n",
        "\n",
        "**Output:**\n",
        "\n",
        "![image.png](data:image/png;base64,iVBORw0KGgoAAAANSUhEUgAAAOMAAADNCAYAAABKKMcKAAARkElEQVR4Ae1dy44dRRa8n8FmRlhgbIyNsd3dhu9jy3ewYsmSFRuExCwRn1Oj0yYgOJysysx6ZVZGSTXn/cjICnW3NBa333//ffro2z8mPUJACJyLwE1kPPcCNF0IAAGREUhICoGTERAZT74AjRcCQEBkBBKSQuBkBKrIeLvdJrx77I/eJs969prNZ4Neesacurn9UZ/KWYqX7qv8PASKyegv0Nt5Y+ez9ug5P/G4qD+bt3M3SdWZH2/Uy9d5m2vmYpwnfRsEisnox+5xYXv09Hu3YteedaluKY7zz+XNxVAvuR0C3ZHRPhB+PRQcg8458LFMxdkPnetYtzhsr6PWS8uvfZZql+KYO5c3F0O95HYIrCLjXpdV0pdzWWeI4IfkmOmRv9ZndVzLes5cn5Oy5/qmzuR7bdHD95Rdj0A1GaOLNF/qLVkx6o36qD9iJjnOfuhLcc6DDhnt5X1L9lwvxHKkn+Nr1sat31IPP1P2OgQ2JeO6Vf6uTn0EkT/yoZPFauNRXY7P53ibd4NeI1N90WsuPhdDvcncPK6RXo9ANRnrRy5Xpj6CyM8+1nkK/JAcMz3yRz7kWoxf7ufrvI0eXFOjR325Tyqe8nMt9JJc1EjWI1BNxj0vaq63xfi1o3M+x6AzPPCxLIlz7txsxDCH68xX+6AfS+7FfuglcZ/LNuvWW8+2CFSTcds1/tmtp4vuadd/orxsXflsy6c/PqNZMtqH0OLHgL0gt7oy9EvJrebk9OEdcvKVsw0CTZJxm6OpixDoCwGRsa/70rYXRkBkvPDl6mh9IVBFRvxN0ddRta0QaBsBkbHt+9F2AyFQTEb8VGQJvNjndcthX2R7n8/HHEkhcEUEVpORQWHyLOlWxzne5hh0niVdCFwNgWIyGgBL5PBxs/FEMcQRS0n0kBQCV0TgEDIycCAafGxDjyTyJYXAVRFYTUYQhwGKfIhzDLpJe2AjFzLlR1xSCFwBgVVk9CSB7SUD5WO5NvcwHXXeL1sI9IpAFRntsBEZ4GMZAYN41AcxlqkekV8+IdArAtVk7PXA2lsItIqAyNjqzWiv4RAQGYe7ch24VQRExlZvRnsNh4DIONyV68CtIiAytnoz2ms4BETG4a5cB24VAZGx1ZvRXsMhIDIOd+U6cKsIiIyt3oz2Gg4BkXG4K9eBW0VAZGz1ZrTXcAiIjMNduQ7cKgIiY6s3o72GQ0BkHO7KdeBWERAZW70Z7TUcAlVkXPqHv8OhmDiw4cSPx83bnLuF7udzz7kY50X6mtqon3wfECgmo78Ib48AbM6ZUzne7+1e8Ot175bxLSajP8yIl5Jz5rkcxCA9pj3YPe/eKr5NkdEuOHoZPB9PxcyP3FSOj7PN+lw9x6Bb7dyDOORcbmkMe0P6evij2T4W5XC/pTjnSl9GYBUZ97iMqGfkw9GimPnYDx0StZDsN93byIPkOHwsl+KWm5PDPWv0uRmpGPxeRvORE8XkK0egmozRRZgv9eauluqL+qg/YpBRD4tFtfClaqNekQ/1mMO211EP6eNb2XP9UzH4vYx2Qk4Uk68cgU3JWD7+3xXRBcMHyVW5PquJcrlXlBPVRD7ukxtfyuOeNfpc/1QMfi+j+ciJYvKVI1BNxvJReRXRBcMHyZ1yfVYT5Xq/z/H2Ur6Pm82P7+dtzl2rz/VOxeD3MtoFOVFMvnIEqsm410VYX//ysaIYdvEx+OfqOYfrrcbbUR/2sc594ff9vI08k1E9x3P0qAfPhI5ebKOWfcgziTj7WF+Kc670DwhUk3EvAK9yiWvOsaaW72WrPtwT+p69MWM02RQZ7YLxXuEizvhggd+es/fsfYV7rz1DU2SsPYTqhMAVEBAZr3CLOsMlECgio/8VyNuXQESHEAInIVBERtvR/73g7ZPOUTS2x52LDqjkLhEoJqOdEh8zZG8n73Xv3nDWvmUIHE5GI4J/c1f2dbC5Hj5IjpkOP6SP59pr63PnKG8cBKrIaPDYx3jGE82NfNgtikU+5OfKLXrkzlLeGAhUkREfImQJVFbj39J6n897+N4cQ13kQ0xSCJyFwOFkXHvQiEjwQfKMXB/XSBcCZyBQTEb/cXt770NE8+CD5B2WfFGc66ULgaMQKCKjfbh4bUHoR37QPBM6gwUfJPbkHPgsp/bh/rU9VCcEGIEiMnLhWfoaAm21s4i4FZLqwwh0RUaQ4GxCnj2fL1D6dRDoiozXgV0nEQL/RkBk/Dcm8giBUxAoIqP/NdHbp5xAQ4XARRAoIqOd2f+95O0ecOlx5x5w1Y7rECgmo43Dxwy5boXjq3vd+3ikNPFIBA4noxHBv7kH9nWwuR4+lnNxjpnOddCRA9sk5yIuKQTWIFBFRhuID3LN8JraaC58kL6v93sb+bl+y+Nc1tFLUgiUIlBFRnx8kCVDrca/pfU+H3v4vmxzDfLZZzrne51zU/WcI10IlCJwOBlLF/T5ERHgg/Q13k7lpfy59T5PthAoQaCYjP6D9XbJ8JrcaB58kL6v97Od0rkH55jf25wrXQjUIlBERvsI8dpA6Ed+nDwTOh8ePpYch444bEj4WebEkANp9XqEQAkCRWQsabxXrj7yvZBV37MR6IqM0U+rswHUfCGwFQJdkXGrQ6uPEGgRAZGxxVvRTkMiIDIOee06dIsIiIwt3op2GhIBkXHIa9ehW0RAZGzxVrTTkAiIjENeuw7dIgIiY4u3op2GREBkHPLadegWERAZW7wV7TQkAiLjkNeuQ7eIgMjY4q1opyEREBmHvHYdukUERMYWb0U7DYmAyDjktevQLSJQRcZe/10h9j7qIvw/hMZ8+L29tJfP9zbq0R+2ZB8IFJPRX7S3Wzj23E5zsS13T83xfm8v7eDzvY36lB9xyfYQKCajP0KLlz6301zMn22NPTcHMciSOb7G2+iV8iMu2R4CTZHRPiC8BlX0QSHOkmFlf6oevVPxVA/2L/XgnbyOuZA+vmSjDjKVvxRP1cl/DgKryLjHZaOnlwYPfB4q7/c251uM4ynd13h7ro5jXMd6Tg7ns45aSI6xvhTnXOnnI1BNxuiizZd6c4+Kvl5aPXy+l/d7m/N9jG3TU+9cD46Zzj19jONLeVEtfDm1OTnoJ3k+ApuScYvj4APy0nrD5+d4v7c538fYZp1rvL6UlxtfyvNz2c6pzcnhntLPRaCajHutjQ/IS5sHn5/t/WyzHvXgOOs8w/u9zbnRDI77Wm9z7pyeU5eTMzdDsWMRqCbjHhdtPdGXJXSDBjksI8gQ5xh8Jn0v5HEO9JwYciAxA7ZJ9EPM2z6Xbdbn6pCHGbC9XIr7fNn7I1BNxv1X63vCmo99TS1Q26IHekkeg4DIuCPOZxHirLk7QjlEa5FxiGvWIXtAQGTs4Za04xAIFJHRfv3Ba+hA169FQ3wrOuTOCBSREQTknURERkO6EKhHoJiMNgoEhKwfr0ohIASAwOFkNAL7F8ssSV8Hm+vgg0zFzG85eoRAKwhUkdGWP+tDjuZGPgDsY7C9RL6kEDgLgSoyrvmQrda/JYfHbK5hn+/NMauB7SX3ky4EzkDgcDKuPSRIxH3gg4xi8CHHS8QlhcBZCBSTER8xFvY2/HvJaB58kDzb+2B7yTXShcAZCBSR0T5gvLYsdHzYRxyAZ0LnufBBYk9I80OHhO8x8Of/RD6OSxcCWyNQRMath9f0O4IkR8yoObtqro1AV2Q0kuC99rXodCMi0BUZR7wgnXkcBETGce5aJ20cgSIy4ldE/E3l7b3Pinm1c9bW185VnRDIQaCIjNYQRERzb8O/l1w7b239XudSXyEgMuobEAKNIFBMRtsbP10gS85iNf7dst739jsuxXN3QZ/cfOUJgSUEDifj0kJLcU8uy4cP0vdgP+vIi3yIpWRNTaqX/ELAEKgi42Nh5T8/so/YvyVXEZEAPkjfj/2sIy/yISYpBI5C4HAyrj1YRBz4IP0M9rOOvMiHmKQQOAoBkZF+zT0KdM0RAhECVWS0nyR4o6Z7+TDTS57nY2bjiWIcR16ORK+cXOUIgRwEqsiY0/jKOSLilW/3vLOJjBXY1/40rRilkoEQEBkHumwdtW0ERMa270fbDYRAERnxtxJ+TfP2QLjpqEJgcwSKyGjTQURs4m34W5Y97twyntptGwSKyWhj8TFDbrPKcV163fs4hDTpDAQOJ6MRwb+5B/d1sLkePkiOmQ4/pI/LFgJnIVBFRlvWPuYznmhu5MNuUSzyIV9SCJyFQBUZ8TFDlixvNf4trff5vIfvzTHURT7EJIXAWQgcTsa1B42IBB8kz8j1cY10IXAGAsVk9B+3t/c+RDQPPkjeYckXxbleuhA4CoEiMtqHi9cWhH7kB80zoTNY8EFiT86Bz3JSz1wsVSO/EFiDQBEZ1wzaqvYIkhwxYys81Oc6CHRFRiMJ3utcgU4iBD4g0BUZdWlC4MoIiIxXvl2drSsEisiIXxHxN5W3jz459ojmzsWifPmEwNkIFJHRlvUfubfPPpDmC4FeERAZe7057X05BIrJaAjgpyFkCSpW49819b6Wey/FavZHT8yBLSkE1iJwOBnXLsz1c2RKxeD3kvvm6KjPyVWOEMhBoIqM1rj2Y7Q6/+YsGuXM7ZCKwe9l1F8+IXAkAoeTccvDgVBRz1QMfi+jHvIJgSMREBln/v+pR16EZgmBKjLaTxW8Z0KIn268A/ZiiTh8ZqOWfcjLkbV1Ob2VMyYCVWRsBSoQ6uh9RMSjER9jXndkBBHOIqJ9FmfOHuOzHPOU3ZFxzGvSqUdAQGQc4ZZ1xi4QqCbj/263CW/pSVFnUo8QEAIfEKgi41oyra3X5QmBKyKwioxrAAEh1/RQrRC4EgLFZASJWDIg7IfOceipGPxe+rpUHHmSQqA3BFaT0R/YkwR2Ko/9yK2V3Eu6EOgNgWIy2gFBluiwiHnpcxFnP3wsMQ+SY17nXtKFQG8IbEpGTw62PTCIpfyIQ1oe9Ej6PrKFQG8I7EJGBgHEYZ/pkd/7YHuZ08vnyBYCrSNQTEZPDLPxRDH2WR7brM/FLC8n/pj05/+gN/ukC4GWEVhNRn84kADS4iATdMQguQd8LEviyLV6PUKgJwSKydjT4bSrEOgJAZGxp9vSrpdGQGS89PXqcD0hIDL2dFva9dIIiIyXvl4dricERMaebku7XhoBkfHS16vD9YSAyNjTbWnXSyNw+/XXX6ePvv3j0ofU4YRADwiIjD3cknYcAgGRcYhr1iF7QEBk7OGWtOMQCIiMQ1yzDtkDAiJjD7ekHYdAQGQc4pp1yB4QEBl7uCXtOAQCVWRs4T8+M8Tt6JBDIVBMRv9fYPL2UOjpsEJgQwSKyehni4weEdlCoA4BkbEON1UJgc0RWEVG/VTc/D7UcGAEqskYEdF8qXdgjHV0IZCFwKZkzJqoJCEgBEIEqskYdpNTCAiBagSqyRj9mlq9hQqFgBCYbt99953+cbE+BCHQAAK377//XmRs4CK0ghC4/fDDDyKjvgMh0AACtx9//FFkbOAitIIQuP30008io74DIdAAAreff/5ZZGzgIrSCELj98ssvIqO+AyHQAAK33377TWRs4CK0ghC4/efJ0+njT59N/33ydHry9Pn08SfPpiefPps++ezFo/z0+RfTU3ufvZg++/zl9Ozzl4/2Z8+/mJ59/sVk8vmLl9PzF6+mFy+/fNRN2vuFva9eTy9fvZ5evf7qUUJ//dWb6cvXb6a37+6mN2/fTWabNPurN2+nt+/ePdof9LvpzZu30939/WPcct5a7tt307u7u8fXYg8PD9Pd3f3je//wMNn78P79Y93XX3893d/fP77v379/zP1gP0z393+/Dw8Wez8hx6S9Vm/SamwO/GZbzHyIfej7d57F+EXcesDPM8yH/ohDYhbisBGHxC5mI9d8lo8a82MX5FsM+t3d3V9nRZ7VWE/E/DyehZhJ9ET8m2+++Wsv5KE3JPy2k5+HHPSzXNP5bIiZ5PmWa/04n+uRD4kYS8yBz2yfz/1tPtum24t6i/8fBYlaEN6g8cEAAAAASUVORK5CYII=)\n",
        "\n",
        "**Documentation:**\n",
        "\n",
        "This Prolog code defines a simple family relationship database and provides predicates to query and infer various familial relationships. Let's break down the code and its functionality:\n",
        "\n",
        "1. Facts:\n",
        "   - The code begins by specifying some basic facts about individuals, specifying their genders (male or female).\n",
        "   - For example, it defines four females: Pam, Liz, Pat, and Ann, and four males: Jim, Bob, Tom, and Peter.\n",
        "\n",
        "2. Parent-Child Relationships:\n",
        "   - It then establishes parent-child relationships using the \"parent\" predicate.\n",
        "   - For instance, it states that Pam is a parent of Bob, Tom is a parent of Bob and Liz, Bob is a parent of Ann, Pat is a parent of Jim, and Peter is a parent of Jim.\n",
        "   \n",
        "3. Mother and Father Predicates:\n",
        "   - The code defines two predicates, \"mother(X, Y)\" and \"father(X, Y)\", which can be used to find the mother and father of a given child, respectively.\n",
        "   - These predicates rely on the \"parent\" predicate and the gender information to determine the parent's gender.\n",
        "\n",
        "4. Haschild Predicate:\n",
        "   - The \"haschild(X)\" predicate is a simple way to check if an individual has any children.\n",
        "\n",
        "5. Sister and Brother Predicates:\n",
        "   - The code also provides \"sister(X, Y)\" and \"brother(X, Y)\" predicates to find siblings of a given individual.\n",
        "   - These predicates rely on the \"parent\" predicate to ensure that the siblings share the same parent.\n",
        "\n",
        "This Prolog code is a basic representation of a family tree and provides a foundation for querying familial relationships within this family. For example, you can use this code to find who the mother or father of a specific person is, identify siblings, or check if an individual has any children. Prolog's logical inference capabilities can be applied to answer a wide range of queries related to this family's relationships and connections."
      ],
      "metadata": {
        "id": "lieH2wYaVnoF"
      }
    },
    {
      "cell_type": "markdown",
      "source": [
        "# Sample 2\n",
        "\n",
        "**Code:**\n",
        "```\n",
        "capital(india,delhi).\n",
        "capital(bangladesh,dhaka).\n",
        "capital(france,paris).\n",
        "capital(egypt,cairo).\n",
        "\n",
        "in_asia(india).\n",
        "in_asia(bangladesh).\n",
        "```\n",
        "**Output:**\n",
        "\n",
        "![image.png](data:image/png;base64,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)\n",
        "\n",
        "\n",
        "**Documentation:**\n",
        "\n",
        "This Prolog code defines a simple database of countries and their respective capitals, along with a predicate to determine whether a country is located in Asia. Let's break down the code and its functionality:\n",
        "\n",
        "Facts:\n",
        "\n",
        "The code starts by establishing facts about the capitals of several countries. For example:\n",
        "India's capital is Delhi.\n",
        "Bangladesh's capital is Dhaka.\n",
        "France's capital is Paris.\n",
        "Egypt's capital is Cairo.\n",
        "In Asia Predicate:\n",
        "\n",
        "The code introduces a predicate called \"in_asia/1,\" which takes a single argument, a country. This predicate is used to assert whether a given country is located in Asia.\n",
        "In the provided facts, both India and Bangladesh are specified as countries that are \"in_asia.\"\n",
        "This Prolog code serves as a basic representation of country-capital relationships and provides a way to classify countries based on their continent, specifically in this case, whether they are in Asia or not. It allows you to query information about the capital of a country and check if a particular country is part of the Asian continent."
      ],
      "metadata": {
        "id": "a6V-NaENWpYV"
      }
    },
    {
      "cell_type": "markdown",
      "source": [
        "# Sample 3\n",
        "\n",
        "**Code:**\n",
        "```\n",
        "cat(tom).\n",
        "loves(kunal,pasta).\n",
        "loves(nawaz,games).\n",
        "hair(kunal,black).\n",
        "is_lazy(kunal).\n",
        "\n",
        "```\n",
        "\n",
        "**Output:**\n",
        "\n",
        "![image.png](data:image/png;base64,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)\n",
        "\n",
        "\n",
        "**Documentation:**\n",
        "\n",
        "This Prolog code defines a simple knowledge base with facts and predicates that describe various attributes and relationships between individuals and objects. Let's break down the code and its functionality:\n",
        "\n",
        "Facts:\n",
        "\n",
        "The code starts by specifying some basic facts about individuals and objects. For example:\n",
        "\"tom\" is a cat. This asserts that there is a cat named Tom.\n",
        "\"kunal\" loves pasta. This indicates that Kunal has an affection for pasta.\n",
        "\"nawaz\" loves games. This states that Nawaz has an affection for playing games.\n",
        "\"kunal\" has black hair. This describes Kunal's hair color as black.\n",
        "\"kunal\" is lazy. This asserts that Kunal is a lazy individual.\n",
        "Relationships and Attributes:\n",
        "\n",
        "The code uses predicates to represent relationships between individuals and their attributes.\n",
        "The \"loves/2\" predicate specifies who loves what, connecting individuals (like Kunal and Nawaz) to objects or activities (pasta and games).\n",
        "The \"hair/2\" predicate associates individuals (like Kunal) with their hair color (black).\n",
        "The \"is_lazy/1\" predicate is used to describe an individual's characteristic (Kunal's laziness).\n",
        "This Prolog code serves as a basic representation of facts, relationships, and attributes in a knowledge base. It allows you to make queries and assertions about the attributes and relationships of individuals and objects in the specified domain."
      ],
      "metadata": {
        "id": "IdxrReKCb9ps"
      }
    },
    {
      "cell_type": "markdown",
      "source": [
        "**Problem 2:**\n",
        "\n",
        "Consider the following knowledge base relating Harry Potter.\n",
        "1. Harry is a wizard.\n",
        "2. Hagrid scares Dudley.\n",
        "3. All wizards are magical.\n",
        "4. Uncle Vernon hates anyone who is magical.\n",
        "5. Aunt Petunia hates anyone who is magical or scares Dudley."
      ],
      "metadata": {
        "id": "VXzyWhdmfI30"
      }
    },
    {
      "cell_type": "markdown",
      "source": [
        "\n",
        "**Code:**\n",
        "\n",
        "```\n",
        "wizard(harry).\n",
        "scares(hagrid,dudley).\n",
        "magical(X):-wizard(X).\n",
        "\n",
        "hates(uncle_vernon,X):-magical(X).\n",
        "hates(aunt_petunia,X):-magical(X).\n",
        "hates(aunt_petunia,X):-scares(X, dudley).\n",
        "\n",
        "```\n",
        "\n",
        "**Documentation:**\n",
        "\n",
        "This Prolog code represents a simplified model of relationships and attributes in the context of the Harry Potter series. It uses predicates and facts to describe characters and their feelings towards others. Let's break down the code and its functionality:\n",
        "\n",
        "Wizard Predicate:\n",
        "\n",
        "The code starts by asserting that Harry is a wizard. This fact establishes Harry as a character with magical abilities.\n",
        "\n",
        "Scares Predicate:\n",
        "\n",
        "The \"scares/2\" predicate is used to describe a situation where one character scares another character. In this case, it states that Hagrid scares Dudley.\n",
        "Hagrid's action of scaring Dudley is not further elaborated upon in this code.\n",
        "\n",
        "Magical Predicate:\n",
        "\n",
        "The \"magical/1\" predicate defines a rule that links an individual (in this case, X) to being magical if they are a wizard.\n",
        "This predicate is a simple way to determine if someone has magical abilities based on the \"wizard\" fact.\n",
        "\n",
        "Hates Predicates:\n",
        "\n",
        "The code introduces two \"hates/2\" predicates, each specifying a character (Uncle Vernon and Aunt Petunia) and another character (X) whom they hate.\n",
        "Uncle Vernon hates any individual X who is magical, as indicated by the \"magical(X)\" rule.\n",
        "Aunt Petunia hates any individual X who is magical, but she also hates X if X scares Dudley, as indicated by the \"scares(X, dudley)\" condition.\n"
      ],
      "metadata": {
        "id": "bUp06dBxfWMk"
      }
    },
    {
      "cell_type": "markdown",
      "source": [
        "**Task:**\n",
        "\n",
        "Ask the following queries to the knowledge base:\n",
        "1. Does Aunt Petunia hate Hagrid?\n",
        "2. Who does Uncle Vernon hate?\n",
        "3. Who does Aunt Petunia hate?\n",
        "\n",
        "**Output:**\n",
        "\n",
        "![image.png](data:image/png;base64,iVBORw0KGgoAAAANSUhEUgAAARIAAADHCAYAAADVs9wLAAAT7ElEQVR4Ae1cWY7kOhLr+99tzvQGMW+IYrNCm1OypTQNJGJhbKLsQPVP//mn4/nPnz//lH6RzhjKwdeDa07k8oNa7IeP40LnGMVKNmpxLnzIgc0SWEtyDvQsh7FMD188wGBntUo+5CoOP8tSTPgRxzp8IUcfzoWOGrBZAoNkDDqwTHIMdJaaw1jo8bBkHRh8WiuzI1Z/iGM/1/60PudzD+hZf2CcG3HjN47qlkcxUHoBdjgEz6Yv6Kz5tMeqPrPmPa2OF8lpN+Z5zcCGDHiRbHgpHskMnMbA0CL58+fPP/itOChqh3zqWdWbzwZ99Iw9ebX5kV+Lqc3Uym/htdrGzmag+4vVl0/tGTSsqDljrhk19Gxq9/Yo5YUfv6yW5qmd5bBP49WuxTJm/TsZ6F4kevzai6SxvfaKmr297467etZWXgvHOXvjEK+yll/DtI7t72DgmEUSLyf/lH7GoHMMfCxLOPuhcx7rgcNWHbkqI/7q08pt4ejbG4d4lbX8GqZ1bH8HA5fe6FUvykhdjmWdrwV+SMZCz/xXfZHHuaz39NWYkl2rWzqT1mrV0Hi1W/ktXOvZPp+B4UWSvSThK/1GKMpqIz+rDywk4+yH3sI5DjpkNpf6WnatFrAeqX0051Nc66ndqh/xPTFa1/bZDExZJLMoKL2AmT/zYY7AruJZXo9PY9Tm2aBfkaW6qFXDaxjya7I3vzeu1svYWQwML5KVxyu9gJmffazzfPBDMhZ65s98iA2Mf1xP89RGDc65omd1uU4JL/k5t6aP5I/E1noaO4eB4UWy8iWp1Q6Mf0ExxzMGna8BPpYjOMfWegNDH84L39UH9VhyLfZDH8E5NtNRk2UWF76IKT01rJRj//4MlG/8gdlPeslOmvXuqzQ3dzP+fL/tFkm8hDu+iJgLctbVoV5JzupTqlPqC38pL/MjJ6SfdzHgG3/Xffu0ZmAJA14kS2h1UTPwLga8SN513z6tGVjCwNAiwb+Bl0ziombADBzLgBfJsVfnwc3APgx0LxL8NcISx2Cf6hHDvsxWn8ajj6UZMAN7MnB5kfBx+MNv6ZHHMWozBp17WTcDZmA/BroXSYze+rAVDxtPhgEHVpKoYWkGzMCeDPx86R3z4UMvhdZwxdiGnslSL/vNgBnYh4HLiwQfPR8l8wFnDHrIeGAjFrLkB25pBszAHgxcWiT6gcNWyUdUrNfmGqEjT/22zYAZeI6BoUUSY2YfMnwssyMBz+oAY1mqkfntMwNm4DkGhhfJc6O6sxkwA7sy4EWy6814LjNwEANeJAddlkc1A7sy4EWy6814LjNwEANeJAddlkc1A7sy4EWy6814LjNwEANeJAddlkc1A7sy4EWy6814LjNwEANeJAddlkc1A7sy4EWy6814LjNwEANeJAddlkc1A7sy4EWy6814LjNwEANeJAddlkc1A7sy4EWy6814LjNwEANeJAddlkc1A7sy4EWy6814LjNwEANDi6T1nw5dPTfqXs2/Oy/m9bOGgRXc7vR+9ZyvNG9P7ppbaVft/iL0EGq3W9UjZtSbUaM+5b//Q1wrZhV+x/lqsz/dvzZbCztt9tK8JX/r/Kvx7kWig8w+0Ix6M2roOdW+o4f2hP1k75jh6f7g4Yo8bfbSvCX/FU5m5my3SIKojCz4IZUE+CFbeMTxgzyWjIeuOYxznsYBQ3zNVkxzSjjiMokclRyrWNj8KJ5h8CE2sxXTGO2b4aUYxGYSOT39Ect1kKcyYtjHdimf/dC5BnRgKgPf7bk00YqDKHmtHhme+YLwlr+F49JKccBZamyPzTGso27mA9aSWS58kFpD/WpzvGKZzT7Wa3UYY72UzzGsRzznsM5x0BlnPcPZx7Gscwx0yN64Wjywp+TwIikdOvzZr/dgWjeztb7W1hzgmsd2FgOfylL9iOOa0Dlfc0dt9OCaI7r243qYN5PcI6sBXLFRu1SH/TofsB7ZM0+pvuZGv16fztabl8WhVg1DzN1yyiKZMbSSwzbr6NXri/gsFnUyGfFZTuYr1dfYT+1Sn2z+zKf9uV6G9dZAnNYYtUt1eE7ElHyMq16bRzGt38LRK4sDBpnF9PpqNYA9JYcXyapBlUy2WUf/lo9x1pEfEn5IxhiHvzeulRt1tFbL1poajxlLMouHD1Jz1c8269lsNVzjua/mlWKzOK6jusazzTry1Be2/hALqTnws8xien2ok8UDe0oOL5IVh4ia+AUR0LkX++CHZPIQxz6tmcXAx1JroE7Jr7lh8wMcdYDDX7JLNdjf0rkHdM6BjyXj0IHDZslYpocvHmCw1Qc8q80Y5yO25NM8trP+8KGuSu6DWiyzeMY5H70U1xjEaW22sxzGV+l/v+mrunxR3acu6lMKT5175Nx3nvHOXszBU315hkz3IslYafh2usyYpfaLozDeOJrhAgPMYehPPE/17TnrM4z0TOYYM2AGjmHAi+SYq/KgZmBfBrxI9r0bT2YGjmFgaJHg34nHnM6DmgEzcAsDXiS30OwmZuC7GeheJPhrhCWoYZ/qEcO+zFafxqOPpRkwA3sycHmR8HH4w2/pkccxajMGnXtZNwNmYD8GuhdJjN76sBUPG0+GAQdWkqhhaQbMwJ4M/HzpHfPhQy+F1nDF2IaeyVIv+82AGdiHgcuLBB89HyXzAWcMesh4YCMWsuQHbmkGzMAeDFxaJPqBw1bJR1Ss1+YaoSNP/bbNgBl4joGhRRJjZh8yfCyzIwHP6gBjWaqR+e0zA2bgOQaGF8lzo7qzGTADuzLgRbLrzXguM3AQA14kB12WRzUDuzLgRbLrzXguM3AQA14kB12WRzUDuzLgRbLrzXguM3AQA14kB12WRzUDuzLgRbLrzXguM3AQA14kB12WRzUDuzLgRbLrzXguM3AQA14kB12WRzUDuzLgRbLrzXguM3AQA14kB12WRzUDuzLgRbLrzXguM3AQA14kB12WRzUDuzLgRbLrzXguM3AQA0OLpPWfDl09N+pezb87L+Z94jmNpyc4ynqCN9yb2sgBDtuyn4HuL0JJVru/ZR45o96MGvl0P947evx0+6093f/3RGd4lDe1cYqSH7hlzkD3ItH02YTPqDejhp5T7Tt6aE+2n+7Ps5ymgzvIbP4alsXb9y8D2y2SuMjsMuGH1AuEH7KFRxw/yGPJeOiaAxw5PbbGag7wWi/ksOQ86IzXdMSjp9qRyz7oqAk7JMcqnmEao7U0BzjyRiTPV8tDXC3G2N8M/P01/Y0VrRVE6wvS6pHhmS8O0fK3cBBRist6aGzY7Cvp6JXVHPGVYrk+6zyP5iqGPPWHzT7V1S7Vyfy12ojvkTxDKb4nppT7Vv/wIslIxiVnspdYrZvZWl9raw5wzWM7i4FPZal+xCk2Ymus9mU7iw1f6ce5NV3rsl2qzTFRW23upxjbrJdyNEZtzivpyIFsxZVw+38zMGWR/C477tHLZZt1VO71RXwWizqZjPgsJ/MhX7ERW2NRM5NZbObLcls+1IFEvNrwq6zFKcY261yT/axHjNqcV9KRA9mKK+H2/2ZgeJH8LjHHo5fLNuvo1vIxzjryQ8IPyRjj8JfiNDbiNLZmK1brl8VmPp0JNWsSdSARq3bJX4qLeMXYZh21NUdj1Oa8TNd4tTmnhnGc9R8GhhfJCpKjJn4xGnTuxT74IX+O85PLPq2JWhwDH0vGoWc9GQOOOoFBVwy2xiAedWfgXKum80wch5lYAmcfdGAh4QuZ2epD/P+CO/M5Fjok6tX6cyz0TKJGhr3ZN7xI3kxWnN0v0r5vwIy7mVFjX4bWTeZFcoHbk162mLX2u3D8r0056V53uwQvkt1uxPOYgQMZ8CI58NI8shnYjYGuRcJ/GscB1F59KPRb3cf1zYAZuMZA1yKJ0vrvR7Wvte/Purtf/2SONANmoHuRBFX4mCHvpO+Jnneez73MwMkM3LZIYhHob4Q4LBLU0Fz4IRmHL2Q8sBEDexRHPOpYmoG3MjC0SIKkpz4efOy4qNYcGd6qUcO1ntqYy9IMvJGBoUWCjwdyhLDI0d9oPsfrDFpb8cjNfLWaNaxVi3Otm4FvZ+C2RfIpkfrhss06+vT6EB8yy8nwVhznWDcDb2Cge5Hox6P2arK0H9usY45eH+JDZjkZ3orjHOtm4A0MdC2S+HDwC1Kg3/VBaT+1dSbMxZJz4McFK6Y44tCHbdVruRpr2wx8CwNdi+RbDjvjHF4UM1h0jW9jwIuk80bxV0tnuMPMwKsY8CJ51XX7sGZgDQNeJGt4dVUz8CoGvEhedd0+rBlYw4AXyRpeXdUMvIoBL5JXXbcPawbWMOBFsoZXVzUDr2LAi+RV1+3DmoE1DHiRrOHVVc3AqxjwInnVdfuwZmANA14ka3h1VTPwKga8SF513T6sGVjDgBfJGl5d1Qy8igEvklddtw9rBtYw4EWyhldXNQOvYsCL5FXX7cOagTUMDC0S/J8cs/9zH9Rdc8T5VWeff/6E51ZcwS3eL9RWG2wBh23Zz0D3IlGS1e5vmUfOqDejRj7dj/eOHj/d/tae7B2TPN3/bzbGLJ1dbVQr+YFb5gx0LxJNn034jHozaug51b6jh/aE/WTvmOHp/uDhqsT8kFmdGpbF2/cvA9stkrjI7DLhh9QLhB+yhUccP8hjyXjomsM452kcMMTXbMU0p4QjLpPIUcmxioXNj+IZBh9iM1sxjdG+GV6KQWxJIg+yFVfC7f/NwN9vy2889bQuIk1qOKMm12U9S83wzBe5LX8LR/9SHHCWGttjcwzrqJv5gLVklgsfpNZQv9ocr1hms4/1Wh3GWC/lc0ym9+T1xGS13+wbXiQZyeEr/XrJ1bqZrT20tuYA1zy2sxj4VJbqRxzXhM75mjtqowfXHNG1H9fDvJnkHlkN4IqN2qU67Nf5gPVKzARZymvhpbw3+6cskhkE6uWxzTp69foiPotFnUxGfJaT+Ur1NfZTu9Qnmz/zaX+ul2G9NRCnNUbtUh2eEzElH+OZjpkgs5irtUu13uIfXiSriNHLZZt19G/5GGcd+SHhh2SMcfh741q5UUdrtWytqfGYsSSzePggNVf9bLOezVbDNZ77al4pNovjOqprvNocX8M4zvoPA8OLZAXJURO/GA0692If/JA/x/nJZZ/WRC2OgY8l49Cznll9+JAHG/now37FYJdqsL+lox9LzmE/dMah92IcBz1kPGqrDzh6Zjh8HFPzcU3oIfXJfBzTwjn2TfpvJt90+gtnPfVFOnXukSuaccYZNUZm/pZYL5ILN7nTyxaz1H5xPMYvHPc1KTvd62mke5GcdmOe1wxsyIAXyYaX4pHMwGkMdC0S/dNY7dWHRr/VfVzfDJiBawx0LZIorf9+VPta+/6su/v1T+ZIM2AGuhdJUIWPGfJO+p7oeef53MsMnMzAbYskFoH+RojDIkENzYUfknH4QsYDGzGwR3HEo06PRK+eWMeYgVMYGFokcagrH88MMvQDbM2R4a0aNVzrqd17xqt5vfUdZwaeYGBokeAjgBwZOHL0N5rP8TqD1lY8cjNfrWYNa9XiXOtm4NsZuG2RfEqkfrhss44+vT7Eh8xyMrwVxznWzcAbGOheJPrxqL2aLO3HNuuYo9eH+JBZToa34jjHuhl4AwNdiyQ+HPyCFOh3fVDaT22dCXOx5Bz4ccGKKY449GF7VEev0TzHm4GdGehaJDsf4O7ZakumNYuXSIsh46cy4EXSeXMzlsAnS6hzTIeZgUcY8CJ5hHY3NQPfxYAXyXfdp09jBh5hoGuR4M96/Gmu9urJ0W91n5764KAWu9O8tTmNmYFZDHQtkmimH5DaswYq1bm7X2mOXv9p8/aey3FmIGOge5FEMj4OyKzgKt8TPT85y2nzfnJW55qB2xZJfFj6G6EfHyZqaC78kC2c46CHjAc214APMYxxTitO82ybgW9gYGiRxIFLH9JqMvCBok9rDsZZr+X39BiphV6WZuDbGRhaJPiIIEfIwUfKcjSf43UGrgsd8Rob/l4fakD25mVxqGFpBr6NgdsWyafE6YfJNuvowz7WM7zmAwY5sxZqWpqB0xnoXiT6Aam9mgjtxzbrmEN9YesPsZCaAz/LLKbXx3Wsm4FvYqBrkfAHGIdXezUh2k9tnSlw+EqzIQZxXJMx5CuuMRmuMeiFmpZm4FsY6Fok33JYPkf2kTNu3QyYgX4GXrNI9C+GfoocaQbMQIuB1yySFhHGzYAZuM6AF8l17pxpBszA/xnwIvGrYAbMwMcMeJF8TKELmAEz4EXid8AMmIGPGfAi+ZhCFzADZsCLxO+AGTADHzPgRfIxhS5gBsyAF4nfATNgBj5mwIvkYwpdwAyYAS8SvwNmwAx8zIAXyccUuoAZMANeJH4HzIAZ+JgBL5KPKXQBM2AGvEj8DpgBM/AxA0OLhP9Pj487u4AZMANfw0D3ItH/UUztr2HEBzEDZmCYge5FopW9SJQR22bgvQx4kbz37n1yMzCNgUuLxH+NTOPfhczAVzAwvEiyJRK+0u8rWPIhzIAZqDIwZZFUOxg0A2bg6xkYXiRfz4gPaAbMwDADw4sk+6fNcFcnmAEz8FUMDC+Srzq9D2MGzMAUBrxIptDoImbg3Qx4kbz7/n16MzCFAS+SKTS6iBl4NwNeJO++f5/eDExhwItkCo0uYgbezYAXybvv36c3A1MY8CKZQqOLmIF3M+BF8u779+nNwBQGvEim0OgiZuDdDHiRvPv+fXozMIUBL5IpNLqIGXg3A14k775/n94MTGHAi2QKjS5iBt7NgBfJu+/fpzcDUxjwIplCo4uYgXcz4EXy7vv36c3AFAb+CwA3bXNFz5F9AAAAAElFTkSuQmCC)"
      ],
      "metadata": {
        "id": "PWce41fQf2bM"
      }
    }
  ]
}