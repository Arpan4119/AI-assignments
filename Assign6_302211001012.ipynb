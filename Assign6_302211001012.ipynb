{
  "cells": [
    {
      "cell_type": "markdown",
      "metadata": {
        "id": "FBwkT6zSvG1T"
      },
      "source": [
        "Name: Arpan Das\n",
        "\n",
        "Roll No.: 302211001012\n",
        "\n",
        "Group: A2\n",
        "\n",
        "UG3, Information Technology"
      ]
    },
    {
      "cell_type": "markdown",
      "metadata": {
        "id": "X6gvwhJgkI6o"
      },
      "source": [
        "### Problem Statement\n",
        "\n",
        "Look at the classical 8-puzzle problem and its solution from a given start state to a specific end state.\n",
        "Before today's lab, you have either solved the same problem or some other related searching problems using different graph or tree search algorithms.\n",
        "Today, you have to use them all (BFS, DFS, DLS, IDS, ILS, and UCS) to solve the same 8-puzzle problem.\n",
        "Points to note:\n",
        "1. For different, DLS and IDS, consider 3 different depths and run with the same configuration.\n",
        "2. For, ILS and UCS, consider the misplaced tiles from the goal state as the cost of the operator.\n",
        "3. Provide necessary inputs to the program. Do not statically mention any of the required parameters to run the setup inside the program.\n",
        "4. Collect the memory and time requirement for each run of the above algorithms along with different parameters for the same algorithms (e.g., depth).\n",
        "5. Input, output states and any other parameter required to run the algorithms must be written in a file (a separate file for each of the algorithms to be prepared as separate inputs may be required for running each algorithm). Write the proper documentation of the input file.\n",
        "6. Intermediate output shall be properly displayed and will be written in a separate output/log file.\n",
        "7. Compare the time and memory requirements of the algorithms/same algorithms with separate input parameters in a table.\n",
        "8. Draw any 3 plots to compare the time and memory requirement (3 for each) of the algorithm. Total of 6 plots. (3 different plots for memory requirement and 3 different plots for time requirement)\n",
        "\n"
      ]
    },
    {
      "cell_type": "markdown",
      "metadata": {
        "id": "35BkBhFQkI6r"
      },
      "source": [
        "# Input File: [G-Drive Link of input.txt](https://drive.google.com/file/d/1znurWSCx50VTZxcOtOdtKWakTI_tqrPU/view)\n",
        "\n",
        "# Maximum Depth File: [G-Drive Link of maximum_depth.txt](https://drive.google.com/file/d/1iwrFeldPaDfOmryPUOXKXs9oYZB4cwTG/view)\n",
        "\n",
        "# Output Files: [G-Drive link of Output Folder](https://drive.google.com/drive/folders/1gkNP9rzO0gNzYu5zoXrPYvIzcWSzNNm_?usp=drive_link)\n",
        "\n"
      ]
    },
    {
      "cell_type": "markdown",
      "metadata": {
        "id": "UBVgyM0h6t_n"
      },
      "source": [
        "Importing all required dependencies\n"
      ]
    },
    {
      "cell_type": "code",
      "execution_count": 2,
      "metadata": {
        "id": "E18A6LxoLUgw"
      },
      "outputs": [
        {
          "ename": "ModuleNotFoundError",
          "evalue": "No module named 'tabulate'",
          "output_type": "error",
          "traceback": [
            "\u001b[1;31m---------------------------------------------------------------------------\u001b[0m",
            "\u001b[1;31mModuleNotFoundError\u001b[0m                       Traceback (most recent call last)",
            "\u001b[1;32md:\\JU\\5th Semester\\AI Lab\\Assign6_302211001012.ipynb Cell 5\u001b[0m line \u001b[0;36m8\n\u001b[0;32m      <a href='vscode-notebook-cell:/d%3A/JU/5th%20Semester/AI%20Lab/Assign6_302211001012.ipynb#W4sZmlsZQ%3D%3D?line=5'>6</a>\u001b[0m \u001b[39mimport\u001b[39;00m \u001b[39mos\u001b[39;00m\n\u001b[0;32m      <a href='vscode-notebook-cell:/d%3A/JU/5th%20Semester/AI%20Lab/Assign6_302211001012.ipynb#W4sZmlsZQ%3D%3D?line=6'>7</a>\u001b[0m \u001b[39mimport\u001b[39;00m \u001b[39mmatplotlib\u001b[39;00m\u001b[39m.\u001b[39;00m\u001b[39mpyplot\u001b[39;00m \u001b[39mas\u001b[39;00m \u001b[39mplt\u001b[39;00m\n\u001b[1;32m----> <a href='vscode-notebook-cell:/d%3A/JU/5th%20Semester/AI%20Lab/Assign6_302211001012.ipynb#W4sZmlsZQ%3D%3D?line=7'>8</a>\u001b[0m \u001b[39mfrom\u001b[39;00m \u001b[39mtabulate\u001b[39;00m \u001b[39mimport\u001b[39;00m tabulate\n",
            "\u001b[1;31mModuleNotFoundError\u001b[0m: No module named 'tabulate'"
          ]
        }
      ],
      "source": [
        "import queue\n",
        "import copy\n",
        "import tracemalloc\n",
        "import math\n",
        "import time\n",
        "import os\n",
        "import matplotlib.pyplot as plt\n",
        "from tabulate import tabulate"
      ]
    },
    {
      "cell_type": "code",
      "execution_count": 2,
      "metadata": {
        "id": "IgUB0-k3uARZ"
      },
      "outputs": [],
      "source": [
        "class Node:\n",
        "    def __init__(self, state_tuple, parent=None):\n",
        "        self.state = state_tuple\n",
        "        self.parent = parent\n",
        "\n",
        "    def __lt__(self, other):\n",
        "        return True\n",
        "\n",
        "    def __repr__(self):\n",
        "        s = \"\"\n",
        "        n = math.isqrt(len(self.state))\n",
        "        for i in range(len(self.state)):\n",
        "            if n >= 4:\n",
        "                s += str(self.state[i]).ljust(2) + \" \"\n",
        "            else:\n",
        "                s += (str(self.state[i])) + \" \"\n",
        "\n",
        "            if (i + 1) % n == 0:\n",
        "                s += \"\\n\"\n",
        "        return s + \"\\n\""
      ]
    },
    {
      "cell_type": "markdown",
      "metadata": {
        "id": "Is0Pm6AfolSj"
      },
      "source": [
        "The Node class has two attributes: state and parent. The state attribute represents the state of the node, and the parent attribute points to the parent of the current node. This is typically used in tree or graph-based algorithms where each node has a parent that it’s connected to.\n",
        "\n",
        "The __init__ method is the constructor of the Node class. It initializes a new instance of the class. When a new Node object is created, you can specify its state and its parent. If no parent is specified, it defaults to None.\n",
        "\n",
        "The __lt__ method is a special method in Python that corresponds to the “less than” operator (<). In this case, it’s defined to always return True, which means any instance of this class will be considered ‘less than’ any other object.\n",
        "\n",
        "The __repr__ method is another special method in Python that returns a string representation of the object. This method constructs a string that represents the state of the node in a grid format. The size of the grid is determined by taking the square root of the length of the state (which should be a perfect square for this to work correctly). Each row in the grid contains ‘n’ elements, and each element is followed by a newline character. This string representation can be useful for visualizing the state of the node."
      ]
    },
    {
      "cell_type": "code",
      "execution_count": 3,
      "metadata": {
        "id": "h6-d-ITDsNDY"
      },
      "outputs": [],
      "source": [
        "class EightPuzzle:\n",
        "    def __init__(self, initial_state: Node, goal_state: Node):\n",
        "        self.initial_state = initial_state\n",
        "        self.goal_state = goal_state\n",
        "        self.size = math.isqrt(len(initial_state.state))\n",
        "        self.actions = [\n",
        "            (0, -1),\n",
        "            (-1, 0),\n",
        "            (0, 1),\n",
        "            (1, 0),\n",
        "        ]  # Possible moves: Left, Up, Right, Down\n",
        "\n",
        "    def is_goal_state(self, state):\n",
        "        return state.state == self.goal_state.state\n",
        "\n",
        "    def is_valid(self, x, y):\n",
        "        return 0 <= x < self.size and 0 <= y < self.size\n",
        "\n",
        "    def get_neighbors(self, state: Node) -> list[Node]:\n",
        "        x, y = state.state.index(0) // self.size, state.state.index(0) % self.size\n",
        "        neighbors = []\n",
        "        for dx, dy in self.actions:\n",
        "            new_x, new_y = x + dx, y + dy\n",
        "            if self.is_valid(new_x, new_y):\n",
        "                new_state = copy.copy(state.state)\n",
        "                idx = x * self.size + y\n",
        "                new_idx = new_x * self.size + new_y\n",
        "                new_state[idx], new_state[new_idx] = new_state[new_idx], new_state[idx]\n",
        "                neighbors.append(Node(new_state, state))\n",
        "        return neighbors"
      ]
    },
    {
      "cell_type": "markdown",
      "metadata": {
        "id": "ObqFGdVcpBZp"
      },
      "source": [
        "The EightPuzzle class represents an 8-puzzle game. It has five attributes: initial_state, goal_state, size, and actions. The initial_state and goal_state are instances of the Node class representing the initial and goal states of the puzzle. The size is the square root of the length of the state, which should be a perfect square for this to work correctly. The actions are possible moves in the puzzle, represented as tuples indicating directions: Left, Up, Right, Down.\n",
        "\n",
        "The __init__ method is the constructor of the EightPuzzle class. It initializes a new instance of the class. When a new EightPuzzle object is created, you can specify its initial_state and its goal_state.\n",
        "\n",
        "The is_goal_state method checks if a given state is the goal state.\n",
        "\n",
        "The is_valid method checks if a given position (x, y) is within the bounds of the puzzle.\n",
        "\n",
        "The get_neighbors method generates all possible states that can be reached from the current state by swapping the empty tile (represented by 0) with one of its neighbors. It returns a list of these states, each represented as a Node object."
      ]
    },
    {
      "cell_type": "markdown",
      "metadata": {
        "id": "MFsbFUzCyWEr"
      },
      "source": [
        "Defining all Algorithms mentioned in the problem statement"
      ]
    },
    {
      "cell_type": "code",
      "execution_count": 4,
      "metadata": {
        "id": "wjqOO0S59W_b"
      },
      "outputs": [],
      "source": [
        "# Define BFS algorithm\n",
        "def bfs(initial_state: Node, goal_state: Node):\n",
        "    puzzle = EightPuzzle(initial_state, goal_state)\n",
        "    frontier = queue.Queue()  # Using a queue for BFS\n",
        "    explored = set()\n",
        "    frontier.put(initial_state)\n",
        "    explored.add(tuple(initial_state.state))\n",
        "\n",
        "    while not frontier.empty():\n",
        "        current_state = frontier.get()\n",
        "\n",
        "        if puzzle.is_goal_state(current_state):\n",
        "            return current_state\n",
        "\n",
        "        for neighbor in puzzle.get_neighbors(current_state):\n",
        "            if tuple(neighbor.state) not in explored:\n",
        "                frontier.put(neighbor)\n",
        "                explored.add(tuple(neighbor.state))\n",
        "\n",
        "    return None"
      ]
    },
    {
      "cell_type": "code",
      "execution_count": 5,
      "metadata": {
        "id": "T3UUJ2F_kI6v"
      },
      "outputs": [],
      "source": [
        "# Define DFS algorithm\n",
        "def dfs(initial_state, goal_state):\n",
        "    puzzle = EightPuzzle(initial_state, goal_state)\n",
        "    frontier = []  # Using a list for DFS\n",
        "    explored = set()\n",
        "    frontier.append(initial_state)\n",
        "    explored.add(tuple(initial_state.state))\n",
        "\n",
        "    while frontier:\n",
        "        current_state = frontier.pop()\n",
        "\n",
        "        if puzzle.is_goal_state(current_state):\n",
        "            return current_state\n",
        "\n",
        "        for neighbor in puzzle.get_neighbors(current_state):\n",
        "            if tuple(neighbor.state) not in explored:\n",
        "                frontier.append(neighbor)\n",
        "                explored.add(tuple(neighbor.state))\n",
        "\n",
        "    return None"
      ]
    },
    {
      "cell_type": "code",
      "execution_count": 6,
      "metadata": {
        "id": "y74CawGtkI6v"
      },
      "outputs": [],
      "source": [
        "# Define DLS algorithm\n",
        "def dls(initial_state, goal_state, depth_limit):\n",
        "    def recursive_dls(current_state, depth):\n",
        "        if depth == 0:\n",
        "            return None\n",
        "        if puzzle.is_goal_state(current_state):\n",
        "            return current_state\n",
        "\n",
        "        for neighbor in puzzle.get_neighbors(current_state):\n",
        "            if tuple(neighbor.state) not in explored:\n",
        "                result = recursive_dls(neighbor, depth - 1)\n",
        "                if result is not None:\n",
        "                    return result\n",
        "        return None\n",
        "\n",
        "    puzzle = EightPuzzle(initial_state, goal_state)\n",
        "    explored = set()\n",
        "\n",
        "    return recursive_dls(initial_state, depth_limit)"
      ]
    },
    {
      "cell_type": "code",
      "execution_count": 7,
      "metadata": {
        "id": "gPavxZAnkI6w"
      },
      "outputs": [],
      "source": [
        "# Define IDS algorithm\n",
        "def ids(initial_state, goal_state):\n",
        "    puzzle = EightPuzzle(initial_state, goal_state)\n",
        "\n",
        "    '''TODO : currently the maximum depth in IDS is set for performance purposes\n",
        "    it should be effectively set to infinite it a solution is guarenteed else\n",
        "    set to a very large number instead'''\n",
        "    for depth_limit in range(puzzle.size * puzzle.size):\n",
        "        result = dls(initial_state, goal_state, depth_limit)\n",
        "        if result is not None:\n",
        "            return result\n",
        "    return None"
      ]
    },
    {
      "cell_type": "code",
      "execution_count": 8,
      "metadata": {
        "id": "qCIinmqtkI6w"
      },
      "outputs": [],
      "source": [
        "# Define ILS algorithm\n",
        "def ils(initial_state, goal_state):\n",
        "    puzzle = EightPuzzle(initial_state, goal_state)\n",
        "    frontier = queue.PriorityQueue()\n",
        "    frontier.put((0, initial_state))\n",
        "    explored = set()\n",
        "\n",
        "    while not frontier.empty():\n",
        "        cost, current_state = frontier.get()\n",
        "\n",
        "        if puzzle.is_goal_state(current_state):\n",
        "            return current_state\n",
        "\n",
        "        for neighbor in puzzle.get_neighbors(current_state):\n",
        "            if tuple(neighbor.state) not in explored:\n",
        "                misplaced_tiles = sum(\n",
        "                    1 for a, b in zip(neighbor.state, puzzle.goal_state.state) if a != b\n",
        "                )\n",
        "                frontier.put((misplaced_tiles, neighbor))\n",
        "                explored.add(tuple(neighbor.state))\n",
        "\n",
        "    return None"
      ]
    },
    {
      "cell_type": "code",
      "execution_count": 9,
      "metadata": {
        "id": "R__3UV0nkI6w"
      },
      "outputs": [],
      "source": [
        "# Define UCS algorithm\n",
        "def ucs(initial_state, goal_state):\n",
        "    puzzle = EightPuzzle(initial_state, goal_state)\n",
        "    frontier = queue.PriorityQueue()\n",
        "    frontier.put((0, initial_state))\n",
        "    explored = set()\n",
        "\n",
        "    while not frontier.empty():\n",
        "        cost, current_state = frontier.get()\n",
        "\n",
        "        if puzzle.is_goal_state(current_state):\n",
        "            return current_state\n",
        "\n",
        "        for neighbor in puzzle.get_neighbors(current_state):\n",
        "            if tuple(neighbor.state) not in explored:\n",
        "                misplaced_tiles = sum(\n",
        "                    1 for a, b in zip(neighbor.state, puzzle.goal_state.state) if a != b\n",
        "                )\n",
        "                frontier.put((misplaced_tiles, neighbor))\n",
        "                explored.add(tuple(neighbor.state))\n",
        "\n",
        "    return None"
      ]
    },
    {
      "cell_type": "markdown",
      "metadata": {
        "id": "icR8HbEw-4fy"
      },
      "source": [
        "Helper functions for reading input, printing the intermediate steps, time and memory requirements and a function for running each algorithm in an organized fashion.\n"
      ]
    },
    {
      "cell_type": "code",
      "execution_count": 22,
      "metadata": {
        "id": "oYkwDxD7-2J0"
      },
      "outputs": [],
      "source": [
        "def read_states_from_file(filename):\n",
        "    start_states, goal_states = [], []\n",
        "\n",
        "    with open(filename, \"r\") as file:\n",
        "        t: int = int(file.readline().strip())\n",
        "        for _ in range(0, t):\n",
        "            # Read the puzzle dimension\n",
        "            start_state, goal_state = [], []\n",
        "            n: int = int(file.readline().strip())\n",
        "\n",
        "            for _ in range(0, n):\n",
        "                start_line = file.readline().strip()\n",
        "                for num in start_line.split(\" \"):\n",
        "                    start_state.append(int(num))\n",
        "\n",
        "            for _ in range(0, n):\n",
        "                goal_line = file.readline().strip()\n",
        "                for num in goal_line.split(\" \"):\n",
        "                    goal_state.append(int(num))\n",
        "\n",
        "            start_states.append(Node(start_state))\n",
        "            goal_states.append(Node(goal_state))\n",
        "\n",
        "    return start_states, goal_states\n",
        "\n",
        "def read_max_depths_from_file(filename):\n",
        "    with open(filename, \"r\") as file:\n",
        "        t: int = int(file.readline().strip())\n",
        "        max_depths = [\n",
        "            int(max_depth) for max_depth in file.readline().strip().split(\" \")\n",
        "        ]\n",
        "    return max_depths\n",
        "\n",
        "def print_path(node: Node, f=None) -> int:\n",
        "    if node is None:\n",
        "        return 0\n",
        "    ans = 1 + print_path(node.parent, f)\n",
        "    if f is not None:\n",
        "        print(node, file=f)\n",
        "    else:\n",
        "        print(node)\n",
        "    return ans"
      ]
    },
    {
      "cell_type": "markdown",
      "metadata": {
        "id": "rLItGOm0qUKB"
      },
      "source": [
        "read_states_from_file(filename): This function reads a file and extracts start states and goal states for a puzzle. It opens the file, reads the number of test cases, and for each test case, it reads the puzzle dimension and the start and goal states. The start and goal states are then wrapped in a Node object and appended to their respective lists. The function returns these lists.\n",
        "\n",
        "read_max_depths_from_file(filename): This function reads a file and extracts maximum depths for each test case. It opens the file, reads the number of test cases, and then reads a line containing maximum depths for each test case. These depths are converted to integers and stored in a list, which is returned by the function.\n",
        "\n",
        "print_path(node: Node, f=None) -> int: This function prints the path from the root to a given node in a tree-like structure. It takes two parameters: node (an instance of the Node class), and f (a file object where the output will be written). If f is not provided, the output will be printed to the console. The function recursively calls itself with node.parent as the argument, effectively moving up the tree towards the root. It then prints the node to either a file or console, depending on whether f is provided or not. The function returns the number of steps from the given node back to the root.\n",
        "\n"
      ]
    },
    {
      "cell_type": "code",
      "execution_count": 13,
      "metadata": {
        "id": "j2I8E8_8kI6x"
      },
      "outputs": [],
      "source": [
        "# Helper function to run and measure an algorithm\n",
        "def run_algorithm(\n",
        "    algorithm_func,\n",
        "    algorithm_name: str,\n",
        "    initial_state: Node,\n",
        "    goal_state: Node,\n",
        "    depth_limit: int = None,\n",
        "    is_print_profile: bool = False,\n",
        "):\n",
        "    tracemalloc.clear_traces()\n",
        "    tracemalloc.start()  # Start tracking memory usage\n",
        "    start_time = time.time()  # Start time\n",
        "    if depth_limit is None:\n",
        "        result = algorithm_func(initial_state, goal_state)\n",
        "    else:\n",
        "        result = algorithm_func(initial_state, goal_state, depth_limit)\n",
        "    end_time = time.time()  # End time\n",
        "    memory = tracemalloc.get_traced_memory()  # Get memory usage\n",
        "    tracemalloc.stop()\n",
        "\n",
        "    execution_time = round((end_time - start_time) * 1000, 2)  # Execution time in ms\n",
        "    memory_usage = round(((memory[1] - memory[0]) / (1024)), 3)\n",
        "\n",
        "    path_length: int = None\n",
        "    if is_print_profile:\n",
        "        output_dir_name = \"algorithm_output\"\n",
        "        if not os.path.exists(output_dir_name):\n",
        "            os.makedirs(output_dir_name)\n",
        "        # Print results in respective algorithm's file\n",
        "        f = open(output_dir_name + \"/\" + algorithm_name + \".txt\", \"w\")\n",
        "        if result is None:\n",
        "            print(\"No solution found.\", file=f)\n",
        "        else:\n",
        "            path_length = print_path(result, f)\n",
        "        print(f\"{algorithm_name} Execution Time: {execution_time} ms\", file=f)\n",
        "        print(f\"{algorithm_name} Memory Usage: {memory_usage} KB\\n\", file=f)\n",
        "\n",
        "    return execution_time, memory_usage, path_length"
      ]
    },
    {
      "cell_type": "markdown",
      "metadata": {
        "id": "IxnYk0NTrbWx"
      },
      "source": [
        "The function takes five parameters: algorithm_func, algorithm_name, initial_state, goal_state, depth_limit, and is_print_profile.\n",
        "\n",
        "It starts by clearing any previous memory traces and starts tracking memory usage using the tracemalloc module.\n",
        "\n",
        "It records the start time using the time module.\n",
        "\n",
        "It then runs the algorithm function with the initial state and goal state as arguments. If a depth limit is provided, it’s also passed as an argument to the algorithm function.\n",
        "\n",
        "After the algorithm function finishes running, it records the end time and gets the memory usage from tracemalloc.\n",
        "\n",
        "It calculates the execution time by subtracting the start time from the end time and converts it to milliseconds. It also calculates the memory usage in kilobytes.\n",
        "\n",
        "If is_print_profile is set to True, it prints profiling information to a file. This includes the path from the initial state to the goal state (or a message indicating no solution was found), and the execution time and memory usage of the algorithm.\n",
        "\n",
        "Finally, it returns a tuple containing the execution time, memory usage, and path length."
      ]
    },
    {
      "cell_type": "code",
      "execution_count": 14,
      "metadata": {
        "id": "ffOuh97VsUjs"
      },
      "outputs": [],
      "source": [
        "# to set the color style used by matplotlib\n",
        "plt.style.use(\"tableau-colorblind10\")"
      ]
    },
    {
      "cell_type": "code",
      "execution_count": 15,
      "metadata": {
        "id": "XWjaZWS5kI6x"
      },
      "outputs": [],
      "source": [
        "def plot_bar_graph(\n",
        "    x_values: list,\n",
        "    y_values: list,\n",
        "    x_label: str,\n",
        "    y_label: str,\n",
        "    plot_title: str,\n",
        "    path: str,\n",
        "):\n",
        "    fig = plt.figure(figsize=(15, 10))\n",
        "\n",
        "    # creating the bar plot\n",
        "    plt.bar(x_values, y_values, color=\"blue\", width=0.7, alpha=0.7)\n",
        "\n",
        "    plt.xlabel(x_label)\n",
        "    plt.ylabel(y_label)\n",
        "    plt.title(plot_title)\n",
        "    plt.xticks(rotation=90)\n",
        "    plt.savefig(f\"{path}/{plot_title}.png\")\n",
        "    plt.show()"
      ]
    },
    {
      "cell_type": "code",
      "execution_count": 16,
      "metadata": {
        "id": "hE6-VgQwkI6x"
      },
      "outputs": [],
      "source": [
        "def plot_scatter(\n",
        "    x_values: list,\n",
        "    y_values: list,\n",
        "    annotations: list,\n",
        "    x_label: str,\n",
        "    y_label: str,\n",
        "    plot_title: str,\n",
        "    path: str,\n",
        "    x_shift: float = 0.005,\n",
        "    y_shift: float = 0.005,\n",
        "    color: str = \"blue\",\n",
        "):\n",
        "    fig = plt.figure(figsize=(15, 10))\n",
        "    # creating the bar plot\n",
        "    plt.scatter(x_values, y_values, color=color, alpha=0.7)\n",
        "    plt.xlabel(x_label)\n",
        "    plt.ylabel(y_label)\n",
        "    plt.title(plot_title)\n",
        "    for i, txt in enumerate(annotations):\n",
        "        plt.annotate(txt, (x_values[i] + x_shift, y_values[i] + y_shift))\n",
        "    plt.savefig(f\"{path}/{plot_title}.png\")\n",
        "    plt.show()"
      ]
    },
    {
      "cell_type": "code",
      "execution_count": 17,
      "metadata": {
        "id": "Lj6dqQR3kI6x"
      },
      "outputs": [],
      "source": [
        "def plot_pichart(values, labels, plot_title, path):\n",
        "    fig = plt.figure(figsize=(15, 10))\n",
        "\n",
        "    plt.pie(\n",
        "        values,\n",
        "        labels=labels,  # show percentage with two decimal points\n",
        "        autopct=\"%1.2f%%\",\n",
        "    )\n",
        "    plt.title(label=plot_title, pad=20)\n",
        "    plt.savefig(f\"{path}/{plot_title}.png\")\n",
        "    plt.show()"
      ]
    },
    {
      "cell_type": "code",
      "execution_count": 18,
      "metadata": {
        "id": "hfFZDbTQkI6x"
      },
      "outputs": [],
      "source": [
        "def plot_graphs(execution_times, memories, algorithm_names, index):\n",
        "    path = f\"plots_{index}\"\n",
        "    if not os.path.exists(path):\n",
        "        os.makedirs(path)\n",
        "\n",
        "    plot_bar_graph(\n",
        "        x_values=algorithm_names,\n",
        "        y_values=[math.log(memory + math.e) for memory in memories],\n",
        "        x_label=\"Algorithms\",\n",
        "        y_label=\"Memory (in KB) Logarithmic Scale\",\n",
        "        plot_title=\"Memory VS Algorithm Profile Logarithmic Scale\",\n",
        "        path=path,\n",
        "    )\n",
        "\n",
        "    plot_bar_graph(\n",
        "        x_values=algorithm_names,\n",
        "        y_values=[\n",
        "            math.log(execution_time + math.e) for execution_time in execution_times\n",
        "        ],\n",
        "        x_label=\"Algorithms\",\n",
        "        y_label=\"Time (in ms) Logarithmic Scale\",\n",
        "        plot_title=\"Time VS Algorithm Profile Logarithmic Scale\",\n",
        "        path=path,\n",
        "    )\n",
        "\n",
        "    plot_bar_graph(\n",
        "        x_values=algorithm_names,\n",
        "        y_values=memories,\n",
        "        x_label=\"Algorithms\",\n",
        "        y_label=\"Memory (in KB)\",\n",
        "        plot_title=\"Memory VS Algorithm Profile\",\n",
        "        path=path,\n",
        "    )\n",
        "\n",
        "    plot_bar_graph(\n",
        "        x_values=algorithm_names,\n",
        "        y_values=execution_times,\n",
        "        x_label=\"Algorithms\",\n",
        "        y_label=\"Time (in ms)\",\n",
        "        plot_title=\"Time VS Algorithm Profile\",\n",
        "        path=path,\n",
        "    )\n",
        "\n",
        "    plot_scatter(\n",
        "        x_values=[\n",
        "            math.log(execution_time + math.e) for execution_time in execution_times\n",
        "        ],\n",
        "        y_values=[math.log(memory + math.e) for memory in memories],\n",
        "        annotations=algorithm_names,\n",
        "        x_label=\"Time (in ms) in Logarithmic Scale\",\n",
        "        y_label=\"Memory (in KB) in Logarithmic Scale\",\n",
        "        plot_title=\"Memory VS Time Profile (Logarithmic Scale)\",\n",
        "        path=path,\n",
        "    )\n",
        "\n",
        "    plot_pichart(\n",
        "        execution_times,\n",
        "        labels=algorithm_names,\n",
        "        plot_title=\"Relative Execution Times\",\n",
        "        path=path,\n",
        "    )\n",
        "    plot_pichart(\n",
        "        memories, labels=algorithm_names, plot_title=\"Relative Memory Usage\", path=path\n",
        "    )"
      ]
    },
    {
      "cell_type": "markdown",
      "metadata": {
        "id": "UN4tF4rHAVxZ"
      },
      "source": [
        "The function takes four parameters: execution_times, memories, algorithm_names, and index. These represent the execution times and memory usage of the algorithms, the names of the algorithms, and an index used to create a directory for storing the plots, respectively.\n",
        "It starts by creating a directory named “plots_{index}” if it doesn’t already exist.\n",
        "\n",
        "It then calls the plot_bar_graph function four times to create bar graphs. Two of these graphs plot the execution times and memory usage of the algorithms on a logarithmic scale, while the other two plot these metrics on a linear scale. The x-axis represents the algorithms, and the y-axis represents either time (in ms) or memory (in KB).\n",
        "\n",
        "Next, it calls the plot_scatter function to create a scatter plot with execution time on the x-axis and memory usage on the y-axis, both on a logarithmic scale. Each point in the scatter plot is annotated with the name of the corresponding algorithm.\n",
        "\n",
        "Finally, it calls the plot_pichart function twice to create pie charts showing the relative execution times and memory usage of the algorithms.\n"
      ]
    },
    {
      "cell_type": "code",
      "execution_count": 19,
      "metadata": {
        "id": "KoOZuoETsaaq"
      },
      "outputs": [],
      "source": [
        "class Algorithm:\n",
        "    def __init__(self, name: str, algorithm_func, maximum_depth: int = None):\n",
        "        self.name = name\n",
        "        self.algorithm_func = algorithm_func\n",
        "        self.maximum_depth = maximum_depth\n",
        "\n",
        "    def __repr__(self) -> str:\n",
        "        return self.name\n",
        "\n",
        "    def __str__(self) -> str:\n",
        "        return self.name"
      ]
    },
    {
      "cell_type": "code",
      "execution_count": null,
      "metadata": {
        "id": "GTTHoUEUsfMc"
      },
      "outputs": [],
      "source": [
        "if __name__ == \"__main__\":\n",
        "    algorithms = [\n",
        "        Algorithm(\"BFS\", bfs),\n",
        "        Algorithm(\"DFS\", dfs),\n",
        "        Algorithm(\"UCS\", ucs),\n",
        "        Algorithm(\"ILS\", ils),\n",
        "        Algorithm(\"IDS\", ids),\n",
        "    ]\n",
        "\n",
        "    max_depths = read_max_depths_from_file(\"maximum_depths.txt\")\n",
        "\n",
        "    # Executing DLS with 3 different depth limits\n",
        "    for depth_limit in max_depths:\n",
        "        algorithms.append(Algorithm(f\"DLS ({depth_limit})\", dls, depth_limit))\n",
        "\n",
        "    algorithm_names = [algorithm.name for algorithm in algorithms]\n",
        "\n",
        "    initial_states, goal_states = read_states_from_file(\"input.txt\")\n",
        "\n",
        "    table = []\n",
        "    for i in range(0, len(initial_states)):\n",
        "        execution_times, memories, path_lengths = [], [], []\n",
        "        for algorithm in algorithms:\n",
        "            execution_time, memory, path_length = run_algorithm(\n",
        "                algorithm_func=algorithm.algorithm_func,\n",
        "                algorithm_name=algorithm.name,\n",
        "                initial_state=initial_states[i],\n",
        "                goal_state=goal_states[i],\n",
        "                depth_limit=algorithm.maximum_depth,\n",
        "                is_print_profile=True,\n",
        "            )\n",
        "\n",
        "            execution_times.append(execution_time)\n",
        "            memories.append(memory)\n",
        "            path_lengths.append(\"-\" if path_length is None else path_length - 1)\n",
        "\n",
        "        row = []\n",
        "        row.append(initial_states[i])\n",
        "        row.append(goal_states[i])\n",
        "        for memory in memories:\n",
        "            row.append(memory)\n",
        "        for execution_time in execution_times:\n",
        "            row.append(execution_time)\n",
        "        for path_length in path_lengths:\n",
        "            row.append(path_length)\n",
        "\n",
        "        table.append(row)\n",
        "\n",
        "        plot_graphs(execution_times, memories, algorithm_names, i)\n",
        "\n",
        "    headers = []\n",
        "    headers.append(\"Initial State\")\n",
        "    headers.append(\"Goal State\")\n",
        "\n",
        "    for algorithm_name in algorithm_names:\n",
        "        headers.append(f\"Memory\\n{algorithm_name}\\n(in KB)\")\n",
        "\n",
        "    for algorithm_name in algorithm_names:\n",
        "        headers.append(f\"Time\\n{algorithm_name}\\n(in ms)\")\n",
        "\n",
        "    for algorithm_name in algorithm_names:\n",
        "        headers.append(f\"Len\\n{algorithm_name}\")\n",
        "\n",
        "    f = open(\"comparison.txt\", \"w\")\n",
        "    print(tabulate(table, headers=headers, tablefmt=\"grid\"), file=f)"
      ]
    },
    {
      "cell_type": "markdown",
      "metadata": {
        "id": "bvqarYxUuSC8"
      },
      "source": [
        "Defining Algorithms: The code begins by defining a list of algorithms, each represented as an \"Algorithm\" object. These objects contain the algorithm's name and its associated function (e.g., BFS, DFS, UCS, ILS, IDS). It also prepares to execute Depth-Limited Search (DLS) with different depth limits.\n",
        "\n",
        "Reading Max Depths from File: It reads a list of maximum depth limits from a file named \"maximum_depths.txt.\" These depth limits will be used for DLS.\n",
        "\n",
        "Initializing Algorithm Names: It creates a list of algorithm names based on the previously defined algorithms, which will be used for labeling in the results and plots.\n",
        "\n",
        "Reading Input States: The code reads initial and goal states from a file named \"input.txt.\" These states represent the problem instances on which the algorithms will be tested.\n",
        "\n",
        "Algorithm Execution and Data Collection: For each problem instance (initial and goal states), the code iterates through the list of algorithms and runs each algorithm with the given states. It records execution times, memory usage, and path lengths. The results are stored in a table-like data structure called \"table.\"\n",
        "\n",
        "Plotting Graphs: For each problem instance, the code calls the \"plot_graphs\" function to generate various types of plots, including bar graphs and scatter plots, to visualize the performance of algorithms in terms of memory and time.\n",
        "\n",
        "Table Header and Writing to File: It prepares a table header that includes the initial state, goal state, memory usage, execution time, and path length for each algorithm. The table is then generated using the \"tabulate\" function and written to a file named \"comparison.txt.\""
      ]
    }
  ],
  "metadata": {
    "colab": {
      "collapsed_sections": [
        "Km2MdN9N6x3h"
      ],
      "provenance": []
    },
    "kernelspec": {
      "display_name": "Python 3",
      "name": "python3"
    },
    "language_info": {
      "codemirror_mode": {
        "name": "ipython",
        "version": 3
      },
      "file_extension": ".py",
      "mimetype": "text/x-python",
      "name": "python",
      "nbconvert_exporter": "python",
      "pygments_lexer": "ipython3",
      "version": "3.10.11"
    }
  },
  "nbformat": 4,
  "nbformat_minor": 0
}
