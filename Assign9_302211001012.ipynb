{
  "nbformat": 4,
  "nbformat_minor": 0,
  "metadata": {
    "colab": {
      "provenance": []
    },
    "kernelspec": {
      "name": "python3",
      "display_name": "Python 3"
    },
    "language_info": {
      "name": "python"
    }
  },
  "cells": [
    {
      "cell_type": "markdown",
      "source": [
        "Name: Arpan Das\n",
        "\n",
        "Roll No.: 302211001012\n",
        "\n",
        "Group: A2\n",
        "\n",
        "UG3, Information Technology"
      ],
      "metadata": {
        "id": "Lkrx1nTDNlva"
      }
    },
    {
      "cell_type": "markdown",
      "source": [
        "**Question 1: Uncle**\n",
        "\n",
        "Write a Prolog predicate uncle(X,Y) that is true if X is Y's uncle. Note that we are not considering uncles \"by marriage\", meaning that for X to be Y's uncle the two must be related by blood.\n",
        "\n",
        "\n",
        "---\n",
        "\n",
        "\n",
        "**Question 2: Half-Sister**\n",
        "\n",
        "Write a Prolog predicate halfsister(X,Y) that is true if X is Y's half-sister."
      ],
      "metadata": {
        "id": "1zAEbeWNLmu7"
      }
    },
    {
      "cell_type": "markdown",
      "source": [
        "\n",
        "This Prolog code defines relationships between individuals (parents and their genders) and provides rules to determine uncle, sibling, and half-sister relationships. Here's a short documentation of the code:\n",
        "\n",
        "**Relationship Definitions:**\n",
        "   - `parent(X, Y)`: Specifies that individual `X` is the parent of individual `Y`.\n",
        "   - `female(X)`: Indicates that individual `X` is female.\n",
        "   - `male(X)`: Indicates that individual `X` is male.\n",
        "\n",
        "```\n",
        "% Define the parent and gender relationships.\n",
        "parent(john, ann).\n",
        "parent(jim, john).\n",
        "parent(jim, keith).\n",
        "parent(mary, ann).\n",
        "parent(mary, sylvia).\n",
        "parent(brian, sylvia).\n",
        "female(sylvia).\n",
        "female(ann).\n",
        "male(brian).\n",
        "male(keith).\n",
        "male(jim).\n",
        "```\n",
        "\n",
        "**Rules:**\n",
        "   - `uncle(X, Y)`: Defines the uncle relationship. It asserts that `X` is `Y`'s uncle if `X` is a male sibling of one of `Y`'s parents.\n",
        "   - `sibling(X, Y)`: Defines the sibling relationship. It asserts that `X` and `Y` are siblings if they share a common parent and are not the same person.\n",
        "   - `halfsister(X, Y)`: Defines the half-sister relationship. It asserts that `X` and `Y` are half-sisters if they share one parent, have different genders, and are not the same person.\n",
        "\n",
        "```\n",
        "% Rule for uncle: X is Y's uncle if X is a brother of Y's parent.\n",
        "uncle(X, Y) :-\n",
        "    parent(Z, Y),         % Z is the parent of Y\n",
        "    sibling(X, Z),        % X is a sibling of Z\n",
        "    male(X).              % X is male\n",
        "\n",
        "% Rule for sibling: X is a sibling of Y if they share a common parent.\n",
        "sibling(X, Y) :-\n",
        "    parent(Z, X),         % Z is a parent of X\n",
        "    parent(Z, Y),         % Z is also a parent of Y\n",
        "    X \\= Y.               % X and Y are not the same person\n",
        "\n",
        "% Rule for halfsister: X is Y's half-sister if they share one parent and have different genders.\n",
        "halfsister(X, Y) :-\n",
        "    parent(Z, X),         % Z is a parent of X\n",
        "    parent(Z, Y),         % Z is also a parent of Y\n",
        "    X \\= Y,               % X and Y are not the same person\n",
        "    female(X),            % X is female\n",
        "    female(Y).            % Y is female\n",
        "\n",
        "```\n"
      ],
      "metadata": {
        "id": "BR_ID8bgLK58"
      }
    },
    {
      "cell_type": "markdown",
      "source": [
        "# OUTPUT\n",
        "![image.png](data:image/png;base64,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)"
      ],
      "metadata": {
        "id": "NAsCxy9lMl5z"
      }
    }
  ]
}