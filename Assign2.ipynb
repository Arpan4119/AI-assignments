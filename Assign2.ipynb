{
  "cells": [
    {
      "cell_type": "markdown",
      "metadata": {
        "id": "KM864ejY_g4D"
      },
      "source": [
        "Name: Arpan Das\n",
        "\n",
        "Roll: 302211001012\n",
        "\n",
        "Group: A2\n",
        "\n",
        "Year: UG3"
      ]
    },
    {
      "cell_type": "markdown",
      "metadata": {
        "id": "1TmWgDIY_x5a"
      },
      "source": [
        "**Question:**\n",
        "\n",
        "Write a Python program to solve the water-jug problem using breadth-first search. Inputs to the program should be 1. Capacity of two jugs, and target measurement. Target measurement is the unit user wants to get as a solution.\n"
      ]
    },
    {
      "cell_type": "markdown",
      "metadata": {
        "id": "nNbYjSGI_4Zw"
      },
      "source": [
        "**Code:**"
      ]
    },
    {
      "cell_type": "code",
      "execution_count": 2,
      "metadata": {
        "colab": {
          "base_uri": "https://localhost:8080/"
        },
        "id": "THVxctQ-AMgs",
        "outputId": "b5703b6e-dfd3-4776-8952-06ca3a822716"
      },
      "outputs": [
        {
          "name": "stdout",
          "output_type": "stream",
          "text": [
            "\n",
            "Intermediate states:\n",
            "\n",
            "+---+------------------------+------------------------+------------------------+\n",
            "|   |      Action taken      | Current state of Jug A | Current state of Jug B |\n",
            "+---+------------------------+------------------------+------------------------+\n",
            "| 0 |     Initial state      |           0            |           0            |\n",
            "| 1 | Fill Jug B to capacity |           0            |           3            |\n",
            "| 2 | Pour water from B to A |           3            |           0            |\n",
            "| 3 | Fill Jug B to capacity |           3            |           3            |\n",
            "| 4 | Pour water from B to A |           4            |           2            |\n",
            "+---+------------------------+------------------------+------------------------+\n"
          ]
        }
      ],
      "source": [
        "from collections import deque\n",
        "from tabulate import tabulate\n",
        "\n",
        "def water_jug_bfs(capacity_a, capacity_b, target_measurement):\n",
        "    # Set to keep track of visited states to avoid revisiting the same state\n",
        "    visited = set()\n",
        "    # Queue to perform Breadth-First Search\n",
        "    queue = deque([(0, 0, [['Initial state', 0, 0]])])\n",
        "\n",
        "    while queue:\n",
        "        # Dequeue the current state (current_a, current_b) and the state history 'state'\n",
        "        current_a, current_b, state = queue.popleft()\n",
        "\n",
        "        # Check if the current state has already been visited, if yes, skip it\n",
        "        if (current_a, current_b) in visited:\n",
        "            continue\n",
        "\n",
        "        # Mark the current state as visited\n",
        "        visited.add((current_a, current_b))\n",
        "\n",
        "        # Check if the target measurement is achieved in either of the jugs\n",
        "        if current_a == target_measurement or current_b == target_measurement:\n",
        "            return state\n",
        "\n",
        "        # Explore possible actions from the current state and add them to the queue\n",
        "\n",
        "        # 1. Fill jug A and B to their capacities\n",
        "        queue.append((capacity_a, current_b, state + [['Fill Jug A to capacity', capacity_a, current_b]]))\n",
        "        queue.append((current_a, capacity_b, state + [['Fill Jug B to capacity', current_a, capacity_b]]))\n",
        "\n",
        "        # 2. Empty jug A and B\n",
        "        queue.append((0, current_b, state + [['Empty Jug A', 0, current_b]]))\n",
        "        queue.append((current_a, 0, state + [['Empty Jug B', current_a, 0]]))\n",
        "\n",
        "        # 3. Pour water from jug B to jug A\n",
        "        pour_amount = min(current_b, capacity_a - current_a)\n",
        "        queue.append((current_a + pour_amount, current_b - pour_amount, state + [['Pour water from B to A', current_a + pour_amount, current_b - pour_amount]]))\n",
        "\n",
        "        # 4. Pour water from jug A to jug B\n",
        "        pour_amount = min(current_a, capacity_b - current_b)\n",
        "        queue.append((current_a - pour_amount, current_b + pour_amount, state + [['Pour water from A to B', current_a - pour_amount, current_b + pour_amount]]))\n",
        "\n",
        "    # If the target_measurement is not reachable, return an empty list\n",
        "    return []\n",
        "\n",
        "if __name__ == \"__main__\":\n",
        "    # Input the capacities of the jugs and the target measurement from the user\n",
        "    capacity_a = int(input(\"Enter capacity of jug A: \"))\n",
        "    capacity_b = int(input(\"Enter capacity of jug B: \"))\n",
        "    target_measurement = int(input(\"Enter the target measurement: \"))\n",
        "\n",
        "    # Get the intermediate states to achieve the target measurement using BFS\n",
        "    intermediate_states = water_jug_bfs(capacity_a, capacity_b, target_measurement)\n",
        "\n",
        "    if intermediate_states:\n",
        "        # If intermediate_states is not empty, print the intermediate states in a tabular format\n",
        "        print()\n",
        "        print(\"Intermediate states:\")\n",
        "        print()\n",
        "        print(tabulate(intermediate_states, headers=['Action taken', 'Current state of Jug A', 'Current state of Jug B'], showindex=\"always\", tablefmt=\"pretty\"))\n",
        "    else:\n",
        "        # If the target measurement is not reachable, inform the user\n",
        "        print()\n",
        "        print(\"Target measurement is not reachable.\")\n"
      ]
    },
    {
      "cell_type": "markdown",
      "metadata": {
        "id": "PDYxH4sqA0D1"
      },
      "source": [
        "## Water Jug Problem Solver using Breadth-First Search (BFS)\n",
        "\n",
        "### Description:\n",
        "\n",
        "This Python script solves the classic Water Jug Problem using Breadth-First Search (BFS) algorithm. The Water Jug Problem involves two jugs, Jug A and Jug B, with certain capacities and a target measurement to be achieved by transferring water between the jugs. The goal is to find a sequence of actions to achieve the target measurement using the minimum number of steps.\n",
        "\n",
        "### Requirements:\n",
        "\n",
        "- Python 3.x\n",
        "- `collections` module (for `deque`)\n",
        "- `tabulate` module (for displaying results in a tabular format)\n",
        "\n",
        "### Function: `water_jug_bfs`\n",
        "\n",
        "This function takes the capacities of the two jugs (Jug A and Jug B) and the target measurement as input and returns a list of intermediate states (actions and current states of the jugs) to achieve the target measurement.\n",
        "\n",
        "#### Parameters:\n",
        "\n",
        "- `capacity_a` (int): The capacity of Jug A.\n",
        "- `capacity_b` (int): The capacity of Jug B.\n",
        "- `target_measurement` (int): The target measurement to be achieved.\n",
        "\n",
        "#### Returns:\n",
        "\n",
        "- `list`: A list of intermediate states in the format `[action, current_state_jug_a, current_state_jug_b]` that represent the sequence of actions taken to achieve the target measurement. If the target measurement is not reachable, an empty list is returned.\n",
        "\n",
        "### Main Section:\n",
        "\n",
        "The main section of the script prompts the user to input the capacities of Jug A and Jug B, as well as the target measurement. It then calls the `water_jug_bfs` function to get the intermediate states needed to achieve the target measurement. Finally, it displays the intermediate states in a tabular format using the `tabulate` module or informs the user if the target measurement is not reachable.\n",
        "\n",
        "### Algorithm:\n",
        "\n",
        "The algorithm used to solve the Water Jug Problem is Breadth-First Search (BFS). It explores all possible states reachable from the initial state (both jugs empty) and enqueues these states into a queue for further exploration. The BFS algorithm guarantees finding the shortest path to reach the target measurement.\n",
        "\n",
        "### How it works:\n",
        "\n",
        "1. The script initializes an empty set `visited` to keep track of visited states and a deque `queue` to store states for BFS exploration. The queue initially contains the initial state with both jugs empty.\n",
        "\n",
        "2. The BFS algorithm starts by dequeuing the front state from the queue, representing the current state of Jug A and Jug B, and a state history that tracks the actions taken to reach this state.\n",
        "\n",
        "3. The current state is checked if it has been visited before. If it has, the state is skipped to avoid revisiting it.\n",
        "\n",
        "4. The current state is marked as visited.\n",
        "\n",
        "5. The script checks if the target measurement is already achieved in either of the jugs. If yes, it returns the state history as the solution.\n",
        "\n",
        "6. If the target measurement is not achieved, the script explores all possible actions from the current state and enqueues them into the queue for further exploration:\n",
        "\n",
        "   - Fill Jug A and B to their capacities.\n",
        "   - Empty Jug A and B.\n",
        "   - Pour water from Jug B to Jug A until Jug A is full or Jug B is empty.\n",
        "   - Pour water from Jug A to Jug B until Jug B is full or Jug A is empty.\n",
        "\n",
        "7. Steps 3 to 6 are repeated until the queue becomes empty or the target measurement is achieved.\n",
        "\n",
        "8. If the target measurement is not reachable, the function returns an empty list.\n",
        "\n",
        "### Note:\n",
        "\n",
        "The script uses the `tabulate` module to display the intermediate states in a tabular format for better visualization. Make sure to install the `tabulate` module using `pip install tabulate` before running the script.\n",
        "\n",
        "#### Author:\n",
        "\n",
        "This Python script was created by [Arpan Das]."
      ]
    },
    {
      "cell_type": "markdown",
      "metadata": {
        "id": "AvjEVb2eBuGy"
      },
      "source": [
        "**Output File:**\n",
        "\n",
        "![image.png](data:image/png;base64,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)"
      ]
    }
  ],
  "metadata": {
    "colab": {
      "provenance": []
    },
    "kernelspec": {
      "display_name": "Python 3",
      "name": "python3"
    },
    "language_info": {
      "codemirror_mode": {
        "name": "ipython",
        "version": 3
      },
      "file_extension": ".py",
      "mimetype": "text/x-python",
      "name": "python",
      "nbconvert_exporter": "python",
      "pygments_lexer": "ipython3",
      "version": "3.11.4"
    }
  },
  "nbformat": 4,
  "nbformat_minor": 0
}
